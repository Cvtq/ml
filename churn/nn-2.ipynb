{
 "cells": [
  {
   "cell_type": "code",
   "execution_count": 1,
   "metadata": {},
   "outputs": [
    {
     "name": "stderr",
     "output_type": "stream",
     "text": [
      "2023-06-08 15:03:53.966765: I tensorflow/tsl/cuda/cudart_stub.cc:28] Could not find cuda drivers on your machine, GPU will not be used.\n",
      "2023-06-08 15:03:54.006615: I tensorflow/tsl/cuda/cudart_stub.cc:28] Could not find cuda drivers on your machine, GPU will not be used.\n",
      "2023-06-08 15:03:54.007159: I tensorflow/core/platform/cpu_feature_guard.cc:182] This TensorFlow binary is optimized to use available CPU instructions in performance-critical operations.\n",
      "To enable the following instructions: AVX2 FMA, in other operations, rebuild TensorFlow with the appropriate compiler flags.\n",
      "2023-06-08 15:03:54.641236: W tensorflow/compiler/tf2tensorrt/utils/py_utils.cc:38] TF-TRT Warning: Could not find TensorRT\n"
     ]
    }
   ],
   "source": [
    "import numpy as np\n",
    "import seaborn\n",
    "import pandas as pd\n",
    "import tensorflow as tf\n",
    "import matplotlib.pyplot as plt\n",
    "from keras.models import Sequential\n",
    "from keras.layers import Dense \n",
    "from sklearn.datasets import load_iris\n",
    "from sklearn.model_selection import train_test_split\n",
    "from sklearn.preprocessing import OneHotEncoder"
   ]
  },
  {
   "cell_type": "code",
   "execution_count": 2,
   "metadata": {},
   "outputs": [],
   "source": [
    "from numpy.random import seed\n",
    "from tensorflow.random import set_seed\n",
    "\n",
    "seed(42)\n",
    "set_seed(42)"
   ]
  },
  {
   "attachments": {},
   "cell_type": "markdown",
   "metadata": {},
   "source": [
    "## Классификация"
   ]
  },
  {
   "attachments": {},
   "cell_type": "markdown",
   "metadata": {},
   "source": [
    "Датасет - churn"
   ]
  },
  {
   "cell_type": "code",
   "execution_count": 3,
   "metadata": {},
   "outputs": [],
   "source": [
    "X = pd.read_csv(\"churn-x.csv\")\n",
    "y = pd.read_csv(\"churn-y.csv\")\n",
    "y = y.drop(columns=['Unnamed: 0'])\n",
    "y = y['churn']\n",
    "y = y.values"
   ]
  },
  {
   "cell_type": "code",
   "execution_count": 4,
   "metadata": {},
   "outputs": [],
   "source": [
    "X = X.drop(columns=['Unnamed: 0'])\n",
    "X = np.array(X)"
   ]
  },
  {
   "cell_type": "code",
   "execution_count": 5,
   "metadata": {},
   "outputs": [
    {
     "name": "stdout",
     "output_type": "stream",
     "text": [
      "Train:   4609\n",
      "Test:     922\n",
      "Val:      231\n"
     ]
    }
   ],
   "source": [
    "# Разделение данных на обучающую и тестовую выборки\n",
    "X_train, X_test, y_train, y_test = train_test_split(X, y, test_size=0.2, random_state=42)\n",
    "# + сет для валидации\n",
    "X_test, X_val, y_test, y_val = train_test_split(X_test, y_test, test_size=0.2, random_state=42)\n",
    "\n",
    "# Преобразование целевых меток в one-hot кодировку\n",
    "encoder = OneHotEncoder(categories='auto')\n",
    "y_train = encoder.fit_transform(y_train.reshape(-1, 1)).toarray()\n",
    "y_test = encoder.transform(y_test.reshape(-1, 1)).toarray()\n",
    "y_val = encoder.transform(y_val.reshape(-1, 1)).toarray()\n",
    "\n",
    "print(f\"Train: {X_train.shape[0]:6d}\")\n",
    "print(f\"Test:  {X_test.shape[0]:6d}\")\n",
    "print(f\"Val:   {X_val.shape[0]:6d}\")"
   ]
  },
  {
   "attachments": {},
   "cell_type": "markdown",
   "metadata": {},
   "source": [
    "### Keras"
   ]
  },
  {
   "cell_type": "code",
   "execution_count": 6,
   "metadata": {},
   "outputs": [
    {
     "name": "stdout",
     "output_type": "stream",
     "text": [
      "Model: \"sequential\"\n",
      "_________________________________________________________________\n",
      " Layer (type)                Output Shape              Param #   \n",
      "=================================================================\n",
      " dense (Dense)               (None, 128)               3328      \n",
      "                                                                 \n",
      " dense_1 (Dense)             (None, 64)                8256      \n",
      "                                                                 \n",
      " dense_2 (Dense)             (None, 32)                2080      \n",
      "                                                                 \n",
      " dense_3 (Dense)             (None, 16)                528       \n",
      "                                                                 \n",
      " dense_4 (Dense)             (None, 8)                 136       \n",
      "                                                                 \n",
      " dense_5 (Dense)             (None, 2)                 18        \n",
      "                                                                 \n",
      "=================================================================\n",
      "Total params: 14,346\n",
      "Trainable params: 14,346\n",
      "Non-trainable params: 0\n",
      "_________________________________________________________________\n"
     ]
    },
    {
     "name": "stderr",
     "output_type": "stream",
     "text": [
      "2023-06-08 15:03:55.600030: I tensorflow/compiler/xla/stream_executor/cuda/cuda_gpu_executor.cc:996] successful NUMA node read from SysFS had negative value (-1), but there must be at least one NUMA node, so returning NUMA node zero. See more at https://github.com/torvalds/linux/blob/v6.0/Documentation/ABI/testing/sysfs-bus-pci#L344-L355\n",
      "2023-06-08 15:03:55.600752: W tensorflow/core/common_runtime/gpu/gpu_device.cc:1956] Cannot dlopen some GPU libraries. Please make sure the missing libraries mentioned above are installed properly if you would like to use GPU. Follow the guide at https://www.tensorflow.org/install/gpu for how to download and setup the required libraries for your platform.\n",
      "Skipping registering GPU devices...\n"
     ]
    }
   ],
   "source": [
    "# Создание модели нейронной сети\n",
    "model = Sequential([\n",
    "    Dense(128, activation='elu', input_shape=(25,)),\n",
    "    Dense(64, activation='elu'),\n",
    "    Dense(32, activation='elu'),\n",
    "    Dense(16, activation='elu'),\n",
    "    Dense(8, activation='elu'),    \n",
    "    Dense(2, activation='softmax')\n",
    "])\n",
    "\n",
    "model.summary()\n",
    "# Компиляция модели\n",
    "model.compile(optimizer='adam', loss='categorical_crossentropy', metrics=['accuracy'])"
   ]
  },
  {
   "cell_type": "code",
   "execution_count": 7,
   "metadata": {},
   "outputs": [],
   "source": [
    "# Обучение модели\n",
    "history = model.fit(X_train, y_train, validation_data = (X_val, y_val), epochs=300, batch_size=X_train.size, verbose=0)"
   ]
  },
  {
   "cell_type": "code",
   "execution_count": 8,
   "metadata": {},
   "outputs": [
    {
     "data": {
      "image/png": "[encoded data removed]",
      "text/plain": [
       "<Figure size 800x500 with 1 Axes>"
      ]
     },
     "metadata": {},
     "output_type": "display_data"
    }
   ],
   "source": [
    "def history_plot(history):\n",
    "    pd.DataFrame(history.history).plot(figsize=(8, 5))\n",
    "    plt.grid(True)\n",
    "    #plt.gca().set_ylim(0, 1) # set the vertical range to [0-1]\n",
    "    plt.show()\n",
    "\n",
    "history_plot(history)"
   ]
  },
  {
   "cell_type": "code",
   "execution_count": 9,
   "metadata": {},
   "outputs": [
    {
     "name": "stdout",
     "output_type": "stream",
     "text": [
      "Train loss: 0.1676\n",
      "Train accuracy: 0.9325\n"
     ]
    }
   ],
   "source": [
    "# Оценка модели на обучающей выборке\n",
    "loss, accuracy = model.evaluate(X_train, y_train, verbose=0)\n",
    "print(f'Train loss: {loss:.4f}')\n",
    "print(f'Train accuracy: {accuracy:.4f}')"
   ]
  },
  {
   "cell_type": "code",
   "execution_count": 10,
   "metadata": {},
   "outputs": [
    {
     "name": "stdout",
     "output_type": "stream",
     "text": [
      "Test loss: 0.1903\n",
      "Test accuracy: 0.9262\n"
     ]
    }
   ],
   "source": [
    "# Оценка модели на тестовой выборке\n",
    "loss, accuracy = model.evaluate(X_test, y_test, verbose=0)\n",
    "print(f'Test loss: {loss:.4f}')\n",
    "print(f'Test accuracy: {accuracy:.4f}')"
   ]
  },
  {
   "cell_type": "code",
   "execution_count": 11,
   "metadata": {},
   "outputs": [
    {
     "name": "stdout",
     "output_type": "stream",
     "text": [
      "Val loss: 0.2259\n",
      "Val accuracy: 0.9091\n"
     ]
    }
   ],
   "source": [
    "# Оценка модели на валидации \n",
    "loss, accuracy = model.evaluate(X_val, y_val, verbose=0)\n",
    "print(f'Val loss: {loss:.4f}')\n",
    "print(f'Val accuracy: {accuracy:.4f}')"
   ]
  },
  {
   "attachments": {},
   "cell_type": "markdown",
   "metadata": {},
   "source": [
    "### Pytorch"
   ]
  },
  {
   "cell_type": "code",
   "execution_count": 12,
   "metadata": {},
   "outputs": [],
   "source": [
    "import torch\n",
    "import torch.nn as nn\n",
    "import torch.optim as optim\n",
    "from torchsummary import summary \n",
    "from torch.utils.data import DataLoader, Dataset\n",
    "from sklearn.metrics import classification_report"
   ]
  },
  {
   "cell_type": "code",
   "execution_count": 13,
   "metadata": {},
   "outputs": [],
   "source": [
    "device = torch.device('cuda' if torch.cuda.is_available() else 'cpu')"
   ]
  },
  {
   "cell_type": "code",
   "execution_count": 14,
   "metadata": {},
   "outputs": [],
   "source": [
    "# Создание пользовательского датасета PyTorch\n",
    "class ChurnDataset(Dataset):\n",
    "    def __init__(self, features, labels):\n",
    "        self.features = torch.FloatTensor(features)\n",
    "        self.labels = torch.FloatTensor(labels)\n",
    "\n",
    "    def __getitem__(self, index):\n",
    "        return self.features[index], self.labels[index]\n",
    "\n",
    "    def __len__(self):\n",
    "        return len(self.features)"
   ]
  },
  {
   "cell_type": "code",
   "execution_count": 15,
   "metadata": {},
   "outputs": [],
   "source": [
    "# Создание модели нейронной сети\n",
    "class Net(nn.Module):\n",
    "    def __init__(self):\n",
    "        super(Net, self).__init__()\n",
    "        self.fc1 = nn.Linear(25, 64)\n",
    "        self.fc2 = nn.Linear(64, 32)\n",
    "        self.fc3 = nn.Linear(32, 2)\n",
    "        self.relu = nn.ReLU()\n",
    "        self.softmax = nn.Softmax(dim=1)\n",
    "\n",
    "    def forward(self, x):\n",
    "        x = self.relu(self.fc1(x))\n",
    "        x = self.relu(self.fc2(x))\n",
    "        x = self.softmax(self.fc3(x))\n",
    "        return x"
   ]
  },
  {
   "cell_type": "code",
   "execution_count": 16,
   "metadata": {},
   "outputs": [],
   "source": [
    "# Создание экземпляров датасета и загрузчиков данных\n",
    "train_dataset = ChurnDataset(X_train, y_train)\n",
    "test_dataset = ChurnDataset(X_test, y_test)\n",
    "val_dataset = ChurnDataset(X_val, y_val)\n",
    "\n",
    "train_loader = DataLoader(train_dataset, batch_size=8, shuffle=True)\n",
    "test_loader = DataLoader(test_dataset, batch_size=8, shuffle=False)\n",
    "val_laoder = DataLoader(val_dataset, batch_size=8, shuffle=False)"
   ]
  },
  {
   "cell_type": "code",
   "execution_count": 17,
   "metadata": {},
   "outputs": [
    {
     "name": "stdout",
     "output_type": "stream",
     "text": [
      "Test loss: 0.2196\n",
      "Test accuracy: 0.9317\n"
     ]
    }
   ],
   "source": [
    "# Создание модели и оптимизатора\n",
    "model = Net()\n",
    "optimizer = optim.Adam(model.parameters(), lr=0.001)\n",
    "criterion = nn.BCELoss()\n",
    "\n",
    "# Обучение модели\n",
    "num_epochs = 50\n",
    "for epoch in range(num_epochs):\n",
    "    for inputs, labels in train_loader:\n",
    "        optimizer.zero_grad()\n",
    "        outputs = model(inputs)\n",
    "        loss = criterion(outputs, labels)\n",
    "        loss.backward()\n",
    "        optimizer.step()    \n",
    "\n",
    "# Оценка модели на тестовой выборке\n",
    "model.eval()\n",
    "total_loss = 0.0\n",
    "correct = 0\n",
    "total = 0\n",
    "\n",
    "with torch.no_grad():\n",
    "    for inputs, labels in test_loader:\n",
    "        outputs = model(inputs)\n",
    "        _, predicted = torch.max(outputs.data, 1)\n",
    "        total_loss += criterion(outputs, labels).item()\n",
    "        total += labels.size(0)\n",
    "        correct += (predicted == torch.max(labels, 1)[1]).sum().item()                \n",
    "        \n",
    "\n",
    "accuracy = correct / total\n",
    "avg_loss = total_loss / len(test_loader)\n",
    "print(f'Test loss: {avg_loss:.4f}')\n",
    "print(f'Test accuracy: {accuracy:.4f}')\n"
   ]
  },
  {
   "cell_type": "code",
   "execution_count": 18,
   "metadata": {},
   "outputs": [
    {
     "name": "stdout",
     "output_type": "stream",
     "text": [
      "              precision    recall  f1-score   support\n",
      "\n",
      "           0       0.78      0.79      0.79       146\n",
      "           1       0.96      0.96      0.96       776\n",
      "\n",
      "    accuracy                           0.93       922\n",
      "   macro avg       0.87      0.88      0.87       922\n",
      "weighted avg       0.93      0.93      0.93       922\n",
      "\n"
     ]
    }
   ],
   "source": [
    "# Функция для получения предсказанных меток\n",
    "def get_predicted_labels(outputs):\n",
    "    _, predicted = torch.max(outputs.data, 1)\n",
    "    return predicted.numpy()\n",
    "\n",
    "# Функция для получения фактических меток\n",
    "def get_true_labels(labels):\n",
    "    return np.argmax(labels, axis=1)\n",
    "\n",
    "# Оценка модели на тестовой выборке\n",
    "model.eval()\n",
    "predicted_labels = []\n",
    "true_labels = []\n",
    "\n",
    "with torch.no_grad():\n",
    "    for inputs, labels in test_loader:\n",
    "        outputs = model(inputs)\n",
    "        predicted_labels.extend(get_predicted_labels(outputs))\n",
    "        true_labels.extend(get_true_labels(labels.numpy()))\n",
    "\n",
    "# Отчет о классификации\n",
    "report = classification_report(true_labels, predicted_labels)\n",
    "print(report)"
   ]
  },
  {
   "cell_type": "code",
   "execution_count": 19,
   "metadata": {},
   "outputs": [
    {
     "name": "stdout",
     "output_type": "stream",
     "text": [
      "----------------------------------------------------------------\n",
      "        Layer (type)               Output Shape         Param #\n",
      "================================================================\n",
      "            Linear-1                   [-1, 64]           1,664\n",
      "              ReLU-2                   [-1, 64]               0\n",
      "            Linear-3                   [-1, 32]           2,080\n",
      "              ReLU-4                   [-1, 32]               0\n",
      "            Linear-5                    [-1, 2]              66\n",
      "           Softmax-6                    [-1, 2]               0\n",
      "================================================================\n",
      "Total params: 3,810\n",
      "Trainable params: 3,810\n",
      "Non-trainable params: 0\n",
      "----------------------------------------------------------------\n",
      "Input size (MB): 0.00\n",
      "Forward/backward pass size (MB): 0.00\n",
      "Params size (MB): 0.01\n",
      "Estimated Total Size (MB): 0.02\n",
      "----------------------------------------------------------------\n",
      "Net(\n",
      "  (fc1): Linear(in_features=25, out_features=64, bias=True)\n",
      "  (fc2): Linear(in_features=64, out_features=32, bias=True)\n",
      "  (fc3): Linear(in_features=32, out_features=2, bias=True)\n",
      "  (relu): ReLU()\n",
      "  (softmax): Softmax(dim=1)\n",
      ")\n"
     ]
    }
   ],
   "source": [
    "model.to(device)\n",
    "summary(model, (25,))\n",
    "print(model)"
   ]
  },
  {
   "attachments": {},
   "cell_type": "markdown",
   "metadata": {},
   "source": [
    "## Регрессия"
   ]
  },
  {
   "attachments": {},
   "cell_type": "markdown",
   "metadata": {},
   "source": [
    "Датасет - house prices"
   ]
  },
  {
   "cell_type": "code",
   "execution_count": 61,
   "metadata": {},
   "outputs": [],
   "source": [
    "from sklearn.datasets import fetch_california_housing\n",
    "from sklearn.discriminant_analysis import StandardScaler\n",
    "from sklearn.preprocessing import QuantileTransformer"
   ]
  },
  {
   "cell_type": "code",
   "execution_count": 89,
   "metadata": {},
   "outputs": [],
   "source": [
    "X = pd.read_csv(\"../house-prices/train-house-prices-x.csv\")\n",
    "y = pd.read_csv(\"../house-prices/train-house-prices-y.csv\")\n",
    "X = X.drop(columns=['Unnamed: 0'])\n",
    "X = X.values\n",
    "y = y['Sold Price'].values"
   ]
  },
  {
   "cell_type": "code",
   "execution_count": 90,
   "metadata": {},
   "outputs": [],
   "source": [
    "# Разделение данных на обучающую и тестовую выборки\n",
    "X_train, X_test, y_train, y_test = train_test_split(X, y, test_size=0.2, random_state=42)\n",
    "X_test, X_val, y_test, y_val = train_test_split(X_test, y_test, test_size=0.2, random_state=42)\n",
    "\n",
    "# Масштабирование данных\n",
    "scaler = StandardScaler()\n",
    "X_train = scaler.fit_transform(X_train)\n",
    "X_test = scaler.transform(X_test)\n",
    "X_val = scaler.transform(X_val)"
   ]
  },
  {
   "attachments": {},
   "cell_type": "markdown",
   "metadata": {},
   "source": [
    "### Keras"
   ]
  },
  {
   "cell_type": "code",
   "execution_count": 91,
   "metadata": {},
   "outputs": [
    {
     "name": "stdout",
     "output_type": "stream",
     "text": [
      "Model: \"sequential_8\"\n",
      "_________________________________________________________________\n",
      " Layer (type)                Output Shape              Param #   \n",
      "=================================================================\n",
      " dense_42 (Dense)            (None, 128)               1664      \n",
      "                                                                 \n",
      " dense_43 (Dense)            (None, 64)                8256      \n",
      "                                                                 \n",
      " dense_44 (Dense)            (None, 64)                4160      \n",
      "                                                                 \n",
      " dense_45 (Dense)            (None, 32)                2080      \n",
      "                                                                 \n",
      " dense_46 (Dense)            (None, 32)                1056      \n",
      "                                                                 \n",
      " dense_47 (Dense)            (None, 1)                 33        \n",
      "                                                                 \n",
      "=================================================================\n",
      "Total params: 17,249\n",
      "Trainable params: 17,249\n",
      "Non-trainable params: 0\n",
      "_________________________________________________________________\n"
     ]
    }
   ],
   "source": [
    "from sklearn.metrics import r2_score\n",
    "\n",
    "# Создание модели нейронной сети\n",
    "model = Sequential([\n",
    "    Dense(128, activation='relu', input_shape=(X_train.shape[1],)),\n",
    "    Dense(64, activation='relu'),\n",
    "    Dense(64, activation='relu'),\n",
    "    Dense(32, activation='relu'),\n",
    "    Dense(32, activation='relu'),\n",
    "    Dense(1)\n",
    "])\n",
    "\n",
    "# Компиляция модели\n",
    "model.compile(optimizer='adam', loss='mean_absolute_error', metrics=['mean_absolute_error', 'mean_squared_logarithmic_error','mean_squared_error'])\n",
    "model.summary()"
   ]
  },
  {
   "cell_type": "code",
   "execution_count": 92,
   "metadata": {},
   "outputs": [],
   "source": [
    "# Обучение модели\n",
    "history = model.fit(X_train, y_train, validation_data = (X_val, y_val), epochs=1000, batch_size=X_train.shape[0], verbose=0)"
   ]
  },
  {
   "cell_type": "code",
   "execution_count": 93,
   "metadata": {},
   "outputs": [
    {
     "data": {
      "image/png": "[encoded data removed]",
      "text/plain": [
       "<Figure size 800x500 with 1 Axes>"
      ]
     },
     "metadata": {},
     "output_type": "display_data"
    }
   ],
   "source": [
    "history_plot(history)"
   ]
  },
  {
   "cell_type": "code",
   "execution_count": 94,
   "metadata": {},
   "outputs": [
    {
     "name": "stdout",
     "output_type": "stream",
     "text": [
      "102/102 [==============================] - 0s 739us/step\n"
     ]
    }
   ],
   "source": [
    "y_pred = model.predict(X_test)\n",
    "r2 = r2_score(y_test, y_pred)"
   ]
  },
  {
   "cell_type": "code",
   "execution_count": 95,
   "metadata": {},
   "outputs": [
    {
     "name": "stdout",
     "output_type": "stream",
     "text": [
      "Test loss: 97423.5391\n",
      "Test MAE: 97423.5391\n",
      "Test MSLE: 0.0563\n",
      "Test MSE: 54222573568.0000\n",
      "Test R2: 0.9286\n"
     ]
    }
   ],
   "source": [
    "# Оценка модели \n",
    "loss, mae, msle, mse = model.evaluate(X_test, y_test, verbose=0)\n",
    "print(f'Test loss: {loss:.4f}')\n",
    "print(f'Test MAE: {mae:.4f}')\n",
    "print(f'Test MSLE: {msle:.4f}')\n",
    "print(f'Test MSE: {mse:.4f}')\n",
    "print(f'Test R2: {r2:.4f}')"
   ]
  },
  {
   "attachments": {},
   "cell_type": "markdown",
   "metadata": {},
   "source": [
    "### Pytorch"
   ]
  },
  {
   "cell_type": "code",
   "execution_count": 96,
   "metadata": {},
   "outputs": [],
   "source": [
    "# Преобразование данных в тензоры PyTorch\n",
    "X_train = torch.tensor(X_train, dtype=torch.float32)\n",
    "y_train = torch.tensor(y_train, dtype=torch.float32).view(-1, 1)\n",
    "X_test = torch.tensor(X_test, dtype=torch.float32)\n",
    "y_test = torch.tensor(y_test, dtype=torch.float32).view(-1, 1)\n"
   ]
  },
  {
   "cell_type": "code",
   "execution_count": 97,
   "metadata": {},
   "outputs": [
    {
     "name": "stdout",
     "output_type": "stream",
     "text": [
      "Epoch [100/2000], Loss: 334242.6250\n",
      "Epoch [200/2000], Loss: 156523.9062\n",
      "Epoch [300/2000], Loss: 113014.9531\n",
      "Epoch [400/2000], Loss: 110679.6953\n",
      "Epoch [500/2000], Loss: 110069.5469\n",
      "Epoch [600/2000], Loss: 108855.4141\n",
      "Epoch [700/2000], Loss: 107653.0312\n",
      "Epoch [800/2000], Loss: 106755.8125\n",
      "Epoch [900/2000], Loss: 105954.6016\n",
      "Epoch [1000/2000], Loss: 105280.6875\n",
      "Epoch [1100/2000], Loss: 104778.1016\n",
      "Epoch [1200/2000], Loss: 104368.1953\n",
      "Epoch [1300/2000], Loss: 104065.8594\n",
      "Epoch [1400/2000], Loss: 103822.9141\n",
      "Epoch [1500/2000], Loss: 103483.4766\n",
      "Epoch [1600/2000], Loss: 103233.2344\n",
      "Epoch [1700/2000], Loss: 103045.7109\n",
      "Epoch [1800/2000], Loss: 102898.7656\n",
      "Epoch [1900/2000], Loss: 102716.7734\n",
      "Epoch [2000/2000], Loss: 102650.6328\n"
     ]
    }
   ],
   "source": [
    "# Определение модели нейронной сети\n",
    "class RegressionModel(nn.Module):\n",
    "    def __init__(self, input_dim):\n",
    "        super(RegressionModel, self).__init__()\n",
    "        self.fc1 = nn.Linear(input_dim, 128)\n",
    "        self.fc2 = nn.Linear(128, 64)\n",
    "        self.fc3 = nn.Linear(64, 32)\n",
    "        self.fc4 = nn.Linear(32, 16)\n",
    "        self.fc5 = nn.Linear(16, 1)\n",
    "\n",
    "    def forward(self, x):\n",
    "        x = torch.relu(self.fc1(x))\n",
    "        x = torch.relu(self.fc2(x))\n",
    "        x = torch.relu(self.fc3(x))\n",
    "        x = torch.relu(self.fc4(x))\n",
    "        x = self.fc5(x)\n",
    "        return x\n",
    "\n",
    "\n",
    "model = RegressionModel(X_train.shape[1])\n",
    "\n",
    "# Определение функции потерь и оптимизатора\n",
    "criterion = nn.L1Loss()\n",
    "optimizer = optim.Adam(model.parameters(), lr=0.01)\n",
    "\n",
    "# Обучение модели\n",
    "num_epochs = 2000\n",
    "batch_size = X_train.shape[0] \n",
    "for epoch in range(num_epochs):    \n",
    "    indices = torch.randperm(X_train.size(0))\n",
    "    for i in range(0, X_train.size(0), batch_size):\n",
    "        batch_indices = indices[i:i+batch_size]\n",
    "        batch_inputs = X_train[batch_indices]\n",
    "        batch_targets = y_train[batch_indices]\n",
    "\n",
    "        optimizer.zero_grad()\n",
    "        outputs = model(batch_inputs)\n",
    "        loss = criterion(outputs, batch_targets)\n",
    "        loss.backward()\n",
    "        optimizer.step()\n",
    "        \n",
    "    if (epoch+1) % 100 == 0:\n",
    "        print(f'Epoch [{epoch+1}/{num_epochs}], Loss: {loss.item():.4f}')\n"
   ]
  },
  {
   "cell_type": "code",
   "execution_count": 98,
   "metadata": {},
   "outputs": [
    {
     "name": "stdout",
     "output_type": "stream",
     "text": [
      "Test loss (MAE): 96353.8281\n",
      "Test R2: 0.9321\n"
     ]
    }
   ],
   "source": [
    "# Оценка модели на тестовой выборке\n",
    "model.eval()\n",
    "with torch.no_grad():\n",
    "    test_outputs = model(X_test)\n",
    "    test_loss = criterion(test_outputs, y_test)\n",
    "    r2 = r2_score(y_test, test_outputs)\n",
    "print(f'Test loss (MAE): {test_loss.item():.4f}')\n",
    "print(f'Test R2: {r2:.4f}')"
   ]
  }
 ],
 "metadata": {
  "kernelspec": {
   "display_name": "Python 3",
   "language": "python",
   "name": "python3"
  },
  "language_info": {
   "codemirror_mode": {
    "name": "ipython",
    "version": 3
   },
   "file_extension": ".py",
   "mimetype": "text/x-python",
   "name": "python",
   "nbconvert_exporter": "python",
   "pygments_lexer": "ipython3",
   "version": "3.11.3"
  },
  "orig_nbformat": 4
 },
 "nbformat": 4,
 "nbformat_minor": 2
}
